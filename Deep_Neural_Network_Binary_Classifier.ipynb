{
  "nbformat": 4,
  "nbformat_minor": 0,
  "metadata": {
    "colab": {
      "name": "Deep Neural Network Binary Classifier",
      "version": "0.3.2",
      "provenance": [],
      "collapsed_sections": [],
      "include_colab_link": true
    },
    "kernelspec": {
      "name": "python3",
      "display_name": "Python 3"
    }
  },
  "cells": [
    {
      "cell_type": "markdown",
      "metadata": {
        "id": "view-in-github",
        "colab_type": "text"
      },
      "source": [
        "<a href=\"https://colab.research.google.com/github/KieranJP/Neural-Network-Binary-Classifier/blob/master/Deep_Neural_Network_Binary_Classifier.ipynb\" target=\"_parent\"><img src=\"https://colab.research.google.com/assets/colab-badge.svg\" alt=\"Open In Colab\"/></a>"
      ]
    },
    {
      "metadata": {
        "id": "taMS2EsFt6hm",
        "colab_type": "text"
      },
      "cell_type": "markdown",
      "source": [
        "**This allows me to upload the csv files used as the training and the test data fom my PC:**"
      ]
    },
    {
      "metadata": {
        "id": "s55CvUy25TWe",
        "colab_type": "code",
        "colab": {}
      },
      "cell_type": "code",
      "source": [
        "#Uploading Test Data\n",
        "from google.colab import files\n",
        "uploaded = files.upload()\n",
        "\n",
        "for fn in uploaded.keys():\n",
        "  print('User uploaded file \"{name}\" with length {length} bytes'.format(\n",
        "      name=fn, length=len(uploaded[fn])))"
      ],
      "execution_count": 0,
      "outputs": []
    },
    {
      "metadata": {
        "id": "i8BZisTk6HPl",
        "colab_type": "code",
        "colab": {}
      },
      "cell_type": "code",
      "source": [
        "from __future__ import absolute_import, division, print_function\n",
        "\n",
        "# TensorFlow and tf.keras\n",
        "import tensorflow as tf\n",
        "from tensorflow import keras\n",
        "\n",
        "# Helper libraries\n",
        "import numpy as np\n",
        "import matplotlib.pyplot as plt\n",
        "from matplotlib import pyplot\n",
        "\n",
        "#Imports Required\n",
        "import numpy\n",
        "import pandas\n",
        "from keras.models import Sequential\n",
        "from keras.layers import Dense\n",
        "from keras.wrappers.scikit_learn import KerasClassifier\n",
        "from sklearn.model_selection import cross_val_score\n",
        "from sklearn.preprocessing import LabelEncoder\n",
        "from sklearn.model_selection import StratifiedKFold\n",
        "from sklearn.preprocessing import StandardScaler\n",
        "\n",
        "#Selecting the Csv to use then Displaying it\n",
        "import pandas as pd\n",
        "dataset = pd.read_csv(\"BalancedELFF.csv\")\n",
        "\n",
        "#Using sklearn's split function to split the data into training and testing data.\n",
        "from sklearn.model_selection import train_test_split\n",
        "\n",
        "X = dataset.values\n",
        "Y = dataset.Defective.values\n",
        "X_train, X_test, Y_train, Y_test = train_test_split(X,Y,test_size=0.3)\n",
        "\n",
        "class_names = ['False', 'True']"
      ],
      "execution_count": 0,
      "outputs": []
    },
    {
      "metadata": {
        "id": "BrAQLbNEXtXj",
        "colab_type": "code",
        "colab": {}
      },
      "cell_type": "code",
      "source": [
        "import keras as K\n",
        "\n",
        "#Creates a NN\n",
        "model = Sequential()\n",
        "#Input Layer\n",
        "model.add(K.layers.Dense(units=40, input_dim=40, activation='relu', kernel_initializer='truncated_normal')) \n",
        "#Hidden Layers\n",
        "model.add(K.layers.Dense(units=32, activation='relu', kernel_initializer='truncated_normal')) \n",
        "model.add(K.layers.Dense(units=32, activation='relu', kernel_initializer='truncated_normal'))\n",
        "#Output Layers\n",
        "model.add(K.layers.Dense(units=1, activation='sigmoid', kernel_initializer='truncated_normal'))\n",
        "\n",
        "simple_sgd = K.optimizers.Adam(lr=0.01)  \n",
        "model.compile(loss='binary_crossentropy', optimizer='adam', metrics=['accuracy']) "
      ],
      "execution_count": 0,
      "outputs": []
    },
    {
      "metadata": {
        "id": "TA4leyXvYfp1",
        "colab_type": "code",
        "colab": {}
      },
      "cell_type": "code",
      "source": [
        "#Find out the size of each class so can change weighting\n",
        "trueWeight = len(Y_train[Y_train==False])\n",
        "falseWeight = len(Y_train[Y_train==True])\n",
        "\n",
        "history = model.fit(X_train, Y_train, batch_size=32, epochs=250, validation_split=0.33)"
      ],
      "execution_count": 0,
      "outputs": []
    },
    {
      "metadata": {
        "id": "UKN9iREZZPjx",
        "colab_type": "code",
        "colab": {}
      },
      "cell_type": "code",
      "source": [
        "np.set_printoptions(precision=4, suppress=True)\n",
        "eval_results = model.evaluate(X_train, Y_train) \n",
        "print(\"\\nLoss, accuracy on test data: \")\n",
        "print(\"%0.4f %0.2f%%\" % (eval_results[0], \\\n",
        "  eval_results[1]*100))"
      ],
      "execution_count": 0,
      "outputs": []
    },
    {
      "metadata": {
        "id": "d6aQIFNvMbBj",
        "colab_type": "code",
        "colab": {}
      },
      "cell_type": "code",
      "source": [
        "from sklearn.metrics import classification_report, confusion_matrix \n",
        "Y_predict = model.predict(X_test)\n",
        "Y_predict =(Y_predict>0.5)\n",
        "print(confusion_matrix(Y_test, Y_predict))\n",
        "print(classification_report(Y_test, Y_predict))"
      ],
      "execution_count": 0,
      "outputs": []
    },
    {
      "metadata": {
        "id": "x6RFAgEdZvNJ",
        "colab_type": "code",
        "colab": {}
      },
      "cell_type": "code",
      "source": [
        "#I Guess this shows that the model is decently fit as both the training and the test data both have good accuracy?\n",
        "pyplot.plot(history.history['acc'])\n",
        "pyplot.plot(history.history['val_acc'])\n",
        "pyplot.title('Model Train vs Test Accuracy')\n",
        "pyplot.ylabel('accuracy')\n",
        "pyplot.xlabel('epoch')\n",
        "pyplot.legend(['train', 'test'], loc='upper left')\n",
        "pyplot.show()\n",
        "\n",
        "pyplot.plot(history.history['loss'])\n",
        "pyplot.plot(history.history['val_loss'])\n",
        "pyplot.title('Model Train vs Test loss')\n",
        "pyplot.ylabel('loss')\n",
        "pyplot.xlabel('epoch')\n",
        "pyplot.legend(['train', 'test'], loc='upper left')\n",
        "pyplot.show()"
      ],
      "execution_count": 0,
      "outputs": []
    }
  ]
}